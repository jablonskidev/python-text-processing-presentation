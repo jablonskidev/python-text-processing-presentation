{
 "cells": [
  {
   "cell_type": "markdown",
   "id": "3bafa2e6-b6b9-49e8-9021-c62ab47ade78",
   "metadata": {},
   "source": [
    "# Text Processing in Python: First Look\n",
    "\n",
    "With Python, you can **extract information** from text without having to read it. In this demo, you'll see some of the text processing tasks you can do with Python's **Natural Language Toolkit** ([NLTK](https://www.nltk.org/)). \n",
    "\n",
    "You'll see examples of:\n",
    "- Preparing text for analysis\n",
    "- Extracting information from text"
   ]
  },
  {
   "cell_type": "markdown",
   "id": "51a18e51-d3d9-4229-8d30-a26c3611e8e6",
   "metadata": {},
   "source": [
    "## Tokenizing\n",
    "\n",
    "Text is unstructured data. By tokenizing, you can split it into predicatble units. \n",
    "\n",
    "You can tokenize by word:"
   ]
  },
  {
   "cell_type": "code",
   "execution_count": 8,
   "id": "a5d94259-fa8d-4c18-8006-0ebb1875721f",
   "metadata": {},
   "outputs": [
    {
     "data": {
      "text/plain": [
       "['The', 'tall', 'tree', 'fell', 'over', 'during', 'the', 'storm', '.']"
      ]
     },
     "execution_count": 8,
     "metadata": {},
     "output_type": "execute_result"
    }
   ],
   "source": [
    "from nltk.tokenize import word_tokenize\n",
    "\n",
    "example = \"The tall tree fell over during the storm.\"\n",
    "word_tokenize(example)"
   ]
  },
  {
   "cell_type": "markdown",
   "id": "8bb4c52e-fea2-4ffa-a6a4-3def4833dad7",
   "metadata": {},
   "source": [
    "You can tokenize by sentence:"
   ]
  },
  {
   "cell_type": "code",
   "execution_count": 3,
   "id": "34d0e1cd-5be6-48de-8a10-15f9439fb5e8",
   "metadata": {},
   "outputs": [
    {
     "data": {
      "text/plain": [
       "['The tall tree fell over during the storm.', \"I'm going to climb on it.\"]"
      ]
     },
     "execution_count": 3,
     "metadata": {},
     "output_type": "execute_result"
    }
   ],
   "source": [
    "from nltk.tokenize import sent_tokenize\n",
    "\n",
    "example = \"The tall tree fell over during the storm. I'm going to climb on it.\"\n",
    "sent_tokenize(example)"
   ]
  },
  {
   "cell_type": "markdown",
   "id": "fb3ff170-0bf7-4a93-b28d-6fdb25c13e01",
   "metadata": {},
   "source": [
    "## Tagging Parts of Speech"
   ]
  },
  {
   "cell_type": "markdown",
   "id": "271201e3-bc25-4350-8ff8-b1d1d0258d72",
   "metadata": {
    "tags": []
   },
   "source": [
    "The **parts of speech** are the roles that words play when you use them together in sentences:\n",
    "- Noun\n",
    "- Verb\n",
    "- Adjective\n",
    "- Adverb\n",
    "- Pronoun\n",
    "- Preposition\n",
    "- Conjuntion\n",
    "- Interjection\n",
    "\n",
    "When you label tokens as being a particular part of speech, it's easier to see how they relate to each other so you can see patterns:"
   ]
  },
  {
   "cell_type": "code",
   "execution_count": 4,
   "id": "c06faec4-857b-42fe-881b-0c618d3f3951",
   "metadata": {},
   "outputs": [
    {
     "data": {
      "text/plain": [
       "[('The', 'DT'),\n",
       " ('tall', 'JJ'),\n",
       " ('tree', 'NN'),\n",
       " ('fell', 'VBD'),\n",
       " ('over', 'IN'),\n",
       " ('during', 'IN'),\n",
       " ('the', 'DT'),\n",
       " ('storm', 'NN'),\n",
       " ('.', '.')]"
      ]
     },
     "execution_count": 4,
     "metadata": {},
     "output_type": "execute_result"
    }
   ],
   "source": [
    "from nltk.tag import pos_tag\n",
    "\n",
    "example = \"The tall tree fell over during the storm.\"\n",
    "words_in_example = word_tokenize(example)\n",
    "pos_tag(words_in_example)"
   ]
  },
  {
   "cell_type": "markdown",
   "id": "b476ee47-2872-4352-8a13-df6004aa2770",
   "metadata": {},
   "source": [
    "You can check the docs to see what the tag codes mean:\n",
    "- **DT:** determiner\n",
    "- **JJ:** adjective or numeral, ordinal\n",
    "- **NN:** noun\n",
    "- **VBD:** verb, past tense\n",
    "- **IN:** preposition or conjunction, subordinating "
   ]
  },
  {
   "cell_type": "markdown",
   "id": "7f67a2de-fb3d-4b69-949d-eacdb0ce0609",
   "metadata": {},
   "source": [
    "## Named Entity Recognition\n",
    "\n",
    "**Named entities** refer to specific places, people, or organizations. You can use NER to see what your text is about.\n",
    "\n",
    "Create a string to find named entities in:"
   ]
  },
  {
   "cell_type": "code",
   "execution_count": 5,
   "id": "2e4c0e61-4752-4289-ac17-539f62cabfa2",
   "metadata": {},
   "outputs": [],
   "source": [
    "text = \"\"\"\n",
    "Bloedel Conservatory is a domed lush paradise located in Queen Elizabeth Park \n",
    "atop the City of Vancouver’s highest point. More than 100 exotic birds, and \n",
    "500 exotic plants and flowers thrive within its temperature-controlled environment.\"\"\""
   ]
  },
  {
   "cell_type": "markdown",
   "id": "1a8f65de-8d30-4a1d-8104-5460adb5ce88",
   "metadata": {},
   "source": [
    "Create a function to extract named entities:"
   ]
  },
  {
   "cell_type": "code",
   "execution_count": 6,
   "id": "71004516-7096-488d-b822-81d62fa4d40c",
   "metadata": {},
   "outputs": [],
   "source": [
    "def extract_ne(text):\n",
    "     words = word_tokenize(text)\n",
    "     tags = pos_tag(words)\n",
    "     tree = ne_chunk(tags, binary=True)\n",
    "     return set(\n",
    "         \" \".join(i[0] for i in t)\n",
    "         for t in tree\n",
    "         if hasattr(t, \"label\") and t.label() == \"NE\"\n",
    "     )"
   ]
  },
  {
   "cell_type": "markdown",
   "id": "7c53158a-377b-4f19-a730-fa459c238a92",
   "metadata": {},
   "source": [
    "This function gathers all the named entities, with no repeats. It tokenizes by word, applies part of speech tags to those words, and then extracts named entities based on those tags. Since it has `binary=True`, you won't see what types on named entities they are (such as location, person, organization)."
   ]
  },
  {
   "cell_type": "code",
   "execution_count": 7,
   "id": "dd183092-688a-4ee4-984f-77cb447f0421",
   "metadata": {},
   "outputs": [
    {
     "data": {
      "text/plain": [
       "{'Bloedel Conservatory', 'Queen Elizabeth Park', 'Vancouver'}"
      ]
     },
     "execution_count": 7,
     "metadata": {},
     "output_type": "execute_result"
    }
   ],
   "source": [
    "from nltk.chunk import ne_chunk\n",
    "\n",
    "extract_ne(text)"
   ]
  },
  {
   "cell_type": "markdown",
   "id": "d3638a3c-84ee-44b3-b333-ad4ec328bfe2",
   "metadata": {},
   "source": [
    "## Next Steps\n",
    "\n",
    "If you want to learn more, you can check out:\n",
    "- [nltk.org](nltk.org)\n",
    "- [Natural Language Processing with Python – Analyzing Text with the Natural Language Toolkit](https://www.nltk.org/book/)\n",
    "- [Natural Language Processing With Python's NLTK Package](https://realpython.com/nltk-nlp-python/)\n",
    "- [spaCy](https://spacy.io/)"
   ]
  }
 ],
 "metadata": {
  "kernelspec": {
   "display_name": "anaconda-2022.05-py39",
   "language": "python",
   "name": "conda-env-anaconda-2022.05-py39-py"
  },
  "language_info": {
   "codemirror_mode": {
    "name": "ipython",
    "version": 3
   },
   "file_extension": ".py",
   "mimetype": "text/x-python",
   "name": "python",
   "nbconvert_exporter": "python",
   "pygments_lexer": "ipython3",
   "version": "3.9.12"
  }
 },
 "nbformat": 4,
 "nbformat_minor": 5
}
